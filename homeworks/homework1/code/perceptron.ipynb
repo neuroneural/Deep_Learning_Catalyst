{
 "cells": [
  {
   "cell_type": "code",
   "execution_count": 3,
   "metadata": {
    "_cell_guid": "b1076dfc-b9ad-4769-8c92-a6c4dae69d19",
    "_uuid": "8f2839f25d086af736a60e9eeb907d3b93b6e0e5"
   },
   "outputs": [],
   "source": [
    "import numpy as np # linear algebra\n",
    "import pandas as pd # data processing,"
   ]
  },
  {
   "cell_type": "code",
   "execution_count": 4,
   "metadata": {
    "_cell_guid": "79c7e3d0-c299-4dcb-8224-4455121ee9b0",
    "_uuid": "d629ff2d2480ee46fbb7e2d37f6b5fab8052498a"
   },
   "outputs": [],
   "source": [
    "import numpy as np\n",
    "\n",
    "\n",
    "class Perceptron(object):\n",
    "    \"\"\"Perceptron classifier.\n",
    "\n",
    "    Parameters\n",
    "    ------------\n",
    "    eta : float\n",
    "      Learning rate (between 0.0 and 1.0)\n",
    "    n_iter : int\n",
    "      Passes over the training dataset.\n",
    "    random_state : int\n",
    "      Random number generator seed for random weight\n",
    "      initialization.\n",
    "\n",
    "    Attributes\n",
    "    -----------\n",
    "    w_ : 1d-array\n",
    "      Weights after fitting.\n",
    "    errors_ : list\n",
    "      Number of misclassifications (updates) in each epoch.\n",
    "\n",
    "    \"\"\"\n",
    "    def __init__(self, eta=0.01, n_iter=50, random_state=1):\n",
    "        self.eta = eta\n",
    "        self.n_iter = n_iter\n",
    "        self.random_state = random_state\n",
    "\n",
    "    def fit(self, X, y):\n",
    "        \"\"\"Fit training data.\n",
    "\n",
    "        Parameters\n",
    "        ----------\n",
    "        X : {array-like}, shape = [n_samples, n_features]\n",
    "          Training vectors, where n_samples is the number of samples and\n",
    "          n_features is the number of features.\n",
    "        y : array-like, shape = [n_samples]\n",
    "          Target values.\n",
    "\n",
    "        Returns\n",
    "        -------\n",
    "        self : object\n",
    "\n",
    "        \"\"\"\n",
    "        rgen = np.random.RandomState(self.random_state)\n",
    "        self.w_ = rgen.normal(loc=0.0, scale=0.01, size=1 + X.shape[1])\n",
    "        self.errors_ = []\n",
    "        ####### YOUR CODE HERE ######\n",
    "        \n",
    "        \n",
    "        \n",
    "        ####### Implement Perceptron code here ######\n",
    "        \n",
    "        \n",
    "        ###### YOUR CODE ENDS HERE ######\n",
    "        return self\n",
    "    \n",
    "    def sigmoid(self, Z):\n",
    "      ####### YOUR CODE HERE ######\n",
    "      \"\"\"\n",
    "      Implement Sigmod function for Perceptron classifier\n",
    "      output = 1 / (1 + exp(-z))\n",
    "      \"\"\"\n",
    "      \n",
    "      ###### YOUR CODE ENDS HERE ######\n",
    "\n",
    "        return z\n",
    "\n",
    "    def net_input(self, X):\n",
    "            ####### YOUR CODE HERE ######\n",
    "        \"\"\"Calculate net input\"\"\"\n",
    "        \n",
    "        ###### YOUR CODE ENDS HERE ######\n",
    "\n",
    "        return z\n",
    "\n",
    "    def predict(self, X):\n",
    "        \"\"\"        \n",
    "        Return class label after unit step for prediction greater than 0.5 using numpy \n",
    "        Hint: np.where returns a tuple of arrays, where the first array is the condition and the second array is the value of the condition\n",
    "        \"\"\"\n",
    "        return np.where(self.sigmoid(X) >= 0.5, 1, -1)"
   ]
  },
  {
   "cell_type": "code",
   "execution_count": 5,
   "metadata": {
    "_uuid": "68d014862b9a741f679cf222768db2ba3b8e44dc"
   },
   "outputs": [
    {
     "data": {
      "text/html": [
       "<div>\n",
       "<style scoped>\n",
       "    .dataframe tbody tr th:only-of-type {\n",
       "        vertical-align: middle;\n",
       "    }\n",
       "\n",
       "    .dataframe tbody tr th {\n",
       "        vertical-align: top;\n",
       "    }\n",
       "\n",
       "    .dataframe thead th {\n",
       "        text-align: right;\n",
       "    }\n",
       "</style>\n",
       "<table border=\"1\" class=\"dataframe\">\n",
       "  <thead>\n",
       "    <tr style=\"text-align: right;\">\n",
       "      <th></th>\n",
       "      <th>0</th>\n",
       "      <th>1</th>\n",
       "      <th>2</th>\n",
       "      <th>3</th>\n",
       "      <th>4</th>\n",
       "    </tr>\n",
       "  </thead>\n",
       "  <tbody>\n",
       "    <tr>\n",
       "      <th>145</th>\n",
       "      <td>6.7</td>\n",
       "      <td>3.0</td>\n",
       "      <td>5.2</td>\n",
       "      <td>2.3</td>\n",
       "      <td>Iris-virginica</td>\n",
       "    </tr>\n",
       "    <tr>\n",
       "      <th>146</th>\n",
       "      <td>6.3</td>\n",
       "      <td>2.5</td>\n",
       "      <td>5.0</td>\n",
       "      <td>1.9</td>\n",
       "      <td>Iris-virginica</td>\n",
       "    </tr>\n",
       "    <tr>\n",
       "      <th>147</th>\n",
       "      <td>6.5</td>\n",
       "      <td>3.0</td>\n",
       "      <td>5.2</td>\n",
       "      <td>2.0</td>\n",
       "      <td>Iris-virginica</td>\n",
       "    </tr>\n",
       "    <tr>\n",
       "      <th>148</th>\n",
       "      <td>6.2</td>\n",
       "      <td>3.4</td>\n",
       "      <td>5.4</td>\n",
       "      <td>2.3</td>\n",
       "      <td>Iris-virginica</td>\n",
       "    </tr>\n",
       "    <tr>\n",
       "      <th>149</th>\n",
       "      <td>5.9</td>\n",
       "      <td>3.0</td>\n",
       "      <td>5.1</td>\n",
       "      <td>1.8</td>\n",
       "      <td>Iris-virginica</td>\n",
       "    </tr>\n",
       "  </tbody>\n",
       "</table>\n",
       "</div>"
      ],
      "text/plain": [
       "       0    1    2    3               4\n",
       "145  6.7  3.0  5.2  2.3  Iris-virginica\n",
       "146  6.3  2.5  5.0  1.9  Iris-virginica\n",
       "147  6.5  3.0  5.2  2.0  Iris-virginica\n",
       "148  6.2  3.4  5.4  2.3  Iris-virginica\n",
       "149  5.9  3.0  5.1  1.8  Iris-virginica"
      ]
     },
     "execution_count": 5,
     "metadata": {},
     "output_type": "execute_result"
    }
   ],
   "source": [
    "import pandas as pd\n",
    "###### YOUR CODE HERE ######\n",
    "\n",
    "df = ###### Read iris data set using pandas ######\n",
    "\n",
    "###### YOUR CODE ENDS HERE ######\n",
    "\n",
    "df.tail()"
   ]
  },
  {
   "cell_type": "code",
   "execution_count": 6,
   "metadata": {
    "_uuid": "435f05e39275189555dc02d533a3f96012c4c6ba"
   },
   "outputs": [
    {
     "data": {
      "image/png": "[encoded data removed]",
      "text/plain": [
       "<Figure size 432x288 with 1 Axes>"
      ]
     },
     "metadata": {
      "needs_background": "light"
     },
     "output_type": "display_data"
    }
   ],
   "source": [
    "%matplotlib inline\n",
    "import matplotlib.pyplot as plt\n",
    "import numpy as np\n",
    "\n",
    "# select setosa and versicolor\n",
    "y = df.iloc[0:100, 4].values\n",
    "###### YOUR CODE HERE ######\n",
    "####select Iris-setosa using np.where. Make sure you take extra care of the indexing####\n",
    "y = np.where()\n",
    "###### YOUR CODE ENDS HERE ######\n",
    "\n",
    "# extract sepal length and petal length\n",
    "X = df.iloc[0:100, [0, 2]].values\n",
    "\n",
    "# plot data\n",
    "plt.scatter(X[:50, 0], X[:50, 1],\n",
    "            color='red', marker='o', label='setosa')\n",
    "plt.scatter(X[50:100, 0], X[50:100, 1],\n",
    "            color='blue', marker='x', label='versicolor')\n",
    "\n",
    "plt.xlabel('sepal length [cm]')\n",
    "plt.ylabel('petal length [cm]')\n",
    "plt.legend(loc='upper left')\n",
    "\n",
    "# plt.savefig('images/02_06.png', dpi=300)\n",
    "plt.show()"
   ]
  },
  {
   "cell_type": "code",
   "execution_count": 7,
   "metadata": {
    "_uuid": "0c1afc9edb562ba731d911c1d64082d1d89b647f"
   },
   "outputs": [
    {
     "data": {
      "image/png": "[encoded data removed]",
      "text/plain": [
       "<Figure size 432x288 with 1 Axes>"
      ]
     },
     "metadata": {
      "needs_background": "light"
     },
     "output_type": "display_data"
    }
   ],
   "source": [
    "ppn = Perceptron(eta=0.1, n_iter=10)\n",
    "\n",
    "ppn.fit(X, y)\n",
    "\n",
    "plt.plot(range(1, len(ppn.errors_) + 1), ppn.errors_, marker='o')\n",
    "plt.xlabel('Epochs')\n",
    "plt.ylabel('Number of updates')\n",
    "\n",
    "# plt.savefig('images/02_07.png', dpi=300)\n",
    "plt.show()"
   ]
  },
  {
   "cell_type": "code",
   "execution_count": 8,
   "metadata": {
    "_uuid": "1140ace105e412c179b3d6d9a0530020e40c6af5"
   },
   "outputs": [
    {
     "data": {
      "text/plain": [
       "array([0.19523434, 0.21838086, 0.2112553 , 0.2932151 , 0.2065679 ,\n",
       "       0.2539282 , 0.2566809 , 0.23825561, 0.28453667, 0.25130672,\n",
       "       0.19081642, 0.30204648, 0.23067295, 0.19751923, 0.09299717,\n",
       "       0.16022576, 0.14043791, 0.19523434, 0.21591958, 0.22567798,\n",
       "       0.2539282 , 0.22567798, 0.1421948 , 0.29610084, 0.42870024,\n",
       "       0.27313092, 0.27313092, 0.21357816, 0.18437811, 0.31713712,\n",
       "       0.30204648, 0.19081642, 0.21357816, 0.15462238, 0.25130672,\n",
       "       0.15281612, 0.13212843, 0.25130672, 0.24870329, 0.22567798,\n",
       "       0.17810921, 0.23574481, 0.24870329, 0.27313092, 0.37777773,\n",
       "       0.23067295, 0.25933901, 0.2566809 , 0.20195788, 0.2065679 ,\n",
       "       0.96431186, 0.96621349, 0.97666415, 0.95570045, 0.96971012,\n",
       "       0.97911475, 0.97792266, 0.90121853, 0.96756585, 0.95688587,\n",
       "       0.92464291, 0.95914318, 0.93810434, 0.98077445, 0.90610439,\n",
       "       0.95064099, 0.98051088, 0.95448398, 0.97053221, 0.94360815,\n",
       "       0.98603032, 0.93387523, 0.98459931, 0.98077445, 0.951955  ,\n",
       "       0.95385081, 0.97394872, 0.98302424, 0.97431357, 0.88214354,\n",
       "       0.9372932 , 0.9256047 , 0.93560533, 0.99130782, 0.98303414,\n",
       "       0.97431357, 0.97092673, 0.96232891, 0.96024031, 0.95570045,\n",
       "       0.9782331 , 0.97699186, 0.94581458, 0.89475189, 0.96668297,\n",
       "       0.96433229, 0.96433229, 0.9580171 , 0.82042046, 0.95745508])"
      ]
     },
     "execution_count": 8,
     "metadata": {},
     "output_type": "execute_result"
    }
   ],
   "source": [
    "ppn.sigmoid(X)"
   ]
  },
  {
   "cell_type": "code",
   "execution_count": 9,
   "metadata": {
    "_uuid": "3503594a6edbb672d2a7f7eec16858fc87dbb8d7"
   },
   "outputs": [
    {
     "data": {
      "text/plain": [
       "array([-1.41635053, -1.27512702, -1.31737533, -0.87981992, -1.34573877,\n",
       "       -1.07777031, -1.06329175, -1.16226694, -0.92206823, -1.09165519,\n",
       "       -1.44471397, -0.8375716 , -1.20451526, -1.40187196, -2.27757648,\n",
       "       -1.65654924, -1.81165763, -1.41635053, -1.28960558, -1.2328787 ,\n",
       "       -1.07777031, -1.2328787 , -1.79717906, -0.86593504, -0.28715612,\n",
       "       -0.97879512, -0.97879512, -1.30349046, -1.48696228, -0.76695985,\n",
       "       -0.8375716 , -1.44471397, -1.30349046, -1.69879755, -1.09165519,\n",
       "       -1.71268243, -1.88226938, -1.09165519, -1.10554006, -1.2328787 ,\n",
       "       -1.5292106 , -1.17615182, -1.10554006, -0.97879512, -0.49899139,\n",
       "       -1.20451526, -1.04940687, -1.06329175, -1.37410221, -1.34573877,\n",
       "        3.29659643,  3.35332331,  3.73415185,  3.07146998,  3.46618339,\n",
       "        3.84760561,  3.79087873,  2.21083772,  3.39557163,  3.09983342,\n",
       "        2.50716962,  3.15596661,  2.7184112 ,  3.93210224,  2.26697091,\n",
       "        2.95801622,  3.91821737,  3.04310654,  3.49454683,  2.8173864 ,\n",
       "        4.25679758,  2.64779944,  4.15782238,  3.93210224,  2.98637966,\n",
       "        3.02862797,  3.62129177,  4.05884719,  3.63577034,  2.01288733,\n",
       "        2.70452632,  2.5210545 ,  2.67616288,  4.73660131,  4.05944088,\n",
       "        3.63577034,  3.5084317 ,  3.24046324,  3.18433005,  3.07146998,\n",
       "        3.80535729,  3.74863041,  2.85963471,  2.14022597,  3.36780188,\n",
       "        3.29719012,  3.29719012,  3.12760317,  1.51919872,  3.1137183 ])"
      ]
     },
     "execution_count": 9,
     "metadata": {},
     "output_type": "execute_result"
    }
   ],
   "source": [
    "ppn.net_input(X)"
   ]
  },
  {
   "cell_type": "code",
   "execution_count": 10,
   "metadata": {
    "_uuid": "db5c3874f1ac2b8e5472111d446a08c2661a3d9b"
   },
   "outputs": [],
   "source": [
    "from matplotlib.colors import ListedColormap\n",
    "\n",
    "\n",
    "def plot_decision_regions(X, y, classifier, resolution=0.02):\n",
    "\n",
    "    # setup marker generator and color map\n",
    "    markers = ('s', 'x', 'o', '^', 'v')\n",
    "    colors = ('red', 'blue', 'lightgreen', 'gray', 'cyan')\n",
    "    cmap = ListedColormap(colors[:len(np.unique(y))])\n",
    "\n",
    "    # plot the decision surface\n",
    "    x1_min, x1_max = X[:, 0].min() - 1, X[:, 0].max() + 1\n",
    "    x2_min, x2_max = X[:, 1].min() - 1, X[:, 1].max() + 1\n",
    "    xx1, xx2 = np.meshgrid(np.arange(x1_min, x1_max, resolution),\n",
    "                           np.arange(x2_min, x2_max, resolution))\n",
    "    Z = classifier.predict(np.array([xx1.ravel(), xx2.ravel()]).T)\n",
    "    Z = Z.reshape(xx1.shape)\n",
    "    plt.contourf(xx1, xx2, Z, alpha=0.3, cmap=cmap)\n",
    "    plt.xlim(xx1.min(), xx1.max())\n",
    "    plt.ylim(xx2.min(), xx2.max())\n",
    "\n",
    "    # plot class samples\n",
    "    for idx, cl in enumerate(np.unique(y)):\n",
    "        plt.scatter(x=X[y == cl, 0], \n",
    "                    y=X[y == cl, 1],\n",
    "                    alpha=0.8, \n",
    "                    c=colors[idx],\n",
    "                    marker=markers[idx], \n",
    "                    label=cl, \n",
    "                    edgecolor='black')"
   ]
  },
  {
   "cell_type": "code",
   "execution_count": 11,
   "metadata": {
    "_uuid": "b01cdc97b392bf211f21b1a21bbb5042f26418ce"
   },
   "outputs": [
    {
     "name": "stderr",
     "output_type": "stream",
     "text": [
      "/var/folders/zx/7f5hrldd0f3f7d6cvmhrtjt00000gn/T/ipykernel_78257/3926436729.py:24: UserWarning: You passed a edgecolor/edgecolors ('black') for an unfilled marker ('x').  Matplotlib is ignoring the edgecolor in favor of the facecolor.  This behavior may change in the future.\n",
      "  plt.scatter(x=X[y == cl, 0],\n"
     ]
    },
    {
     "data": {
      "image/png": "[encoded data removed]",
      "text/plain": [
       "<Figure size 432x288 with 1 Axes>"
      ]
     },
     "metadata": {
      "needs_background": "light"
     },
     "output_type": "display_data"
    }
   ],
   "source": [
    "plot_decision_regions(X, y, classifier=ppn)\n",
    "plt.xlabel('sepal length [cm]')\n",
    "plt.ylabel('petal length [cm]')\n",
    "plt.legend(loc='upper left')\n",
    "\n",
    "\n",
    "# plt.savefig('images/02_08.png', dpi=300)\n",
    "plt.show()"
   ]
  },
  {
   "cell_type": "code",
   "execution_count": 10,
   "metadata": {
    "_uuid": "b535fb69c0f53d6704b223c0dd203b95b8e02683"
   },
   "outputs": [],
   "source": []
  }
 ],
 "metadata": {
  "kernelspec": {
   "display_name": "Python 3",
   "language": "python",
   "name": "python3"
  },
  "language_info": {
   "codemirror_mode": {
    "name": "ipython",
    "version": 3
   },
   "file_extension": ".py",
   "mimetype": "text/x-python",
   "name": "python",
   "nbconvert_exporter": "python",
   "pygments_lexer": "ipython3",
   "version": "3.9.6"
  }
 },
 "nbformat": 4,
 "nbformat_minor": 1
}
